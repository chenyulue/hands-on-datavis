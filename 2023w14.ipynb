{
 "cells": [
  {
   "cell_type": "code",
   "execution_count": 1,
   "id": "f993723f-aea9-443e-a106-8ca3ce488529",
   "metadata": {
    "tags": []
   },
   "outputs": [],
   "source": [
    "import pandas as pd\n",
    "import numpy as np"
   ]
  },
  {
   "cell_type": "code",
   "execution_count": 2,
   "id": "c0e993fb-c836-4ccb-afa1-9713413ff001",
   "metadata": {
    "tags": []
   },
   "outputs": [
    {
     "data": {
      "text/html": [
       "<div>\n",
       "<style scoped>\n",
       "    .dataframe tbody tr th:only-of-type {\n",
       "        vertical-align: middle;\n",
       "    }\n",
       "\n",
       "    .dataframe tbody tr th {\n",
       "        vertical-align: top;\n",
       "    }\n",
       "\n",
       "    .dataframe thead th {\n",
       "        text-align: right;\n",
       "    }\n",
       "</style>\n",
       "<table border=\"1\" class=\"dataframe\">\n",
       "  <thead>\n",
       "    <tr style=\"text-align: right;\">\n",
       "      <th></th>\n",
       "      <th>Year</th>\n",
       "      <th>Tms</th>\n",
       "      <th>G</th>\n",
       "      <th>Time</th>\n",
       "      <th>Time/9I</th>\n",
       "      <th>Inn</th>\n",
       "      <th>Inn%</th>\n",
       "      <th>R/G</th>\n",
       "      <th>PA/G</th>\n",
       "      <th>Pitches/PA</th>\n",
       "      <th>Batters/G</th>\n",
       "      <th>Pitchers/G</th>\n",
       "      <th>PH/G</th>\n",
       "      <th>PR/G</th>\n",
       "      <th>Batters/S</th>\n",
       "      <th>Pitchers/S</th>\n",
       "      <th>Attendance</th>\n",
       "      <th>Attend/G</th>\n",
       "      <th>Lg Payroll*</th>\n",
       "      <th>Payroll/Tm*</th>\n",
       "    </tr>\n",
       "  </thead>\n",
       "  <tbody>\n",
       "    <tr>\n",
       "      <th>0</th>\n",
       "      <td>2023</td>\n",
       "      <td>29</td>\n",
       "      <td>155</td>\n",
       "      <td>02:38:00</td>\n",
       "      <td>02:36:00</td>\n",
       "      <td>9.0</td>\n",
       "      <td>5.81</td>\n",
       "      <td>9.26</td>\n",
       "      <td>75.8</td>\n",
       "      <td>3.92</td>\n",
       "      <td>10.2</td>\n",
       "      <td>4.29</td>\n",
       "      <td>0.64</td>\n",
       "      <td>0.15</td>\n",
       "      <td>13.9</td>\n",
       "      <td>13.9</td>\n",
       "      <td>4496419.0</td>\n",
       "      <td>29009.0</td>\n",
       "      <td>4.567792e+09</td>\n",
       "      <td>157510076.0</td>\n",
       "    </tr>\n",
       "    <tr>\n",
       "      <th>1</th>\n",
       "      <td>2022</td>\n",
       "      <td>30</td>\n",
       "      <td>2430</td>\n",
       "      <td>03:06:00</td>\n",
       "      <td>03:03:00</td>\n",
       "      <td>216.0</td>\n",
       "      <td>8.89</td>\n",
       "      <td>8.57</td>\n",
       "      <td>74.9</td>\n",
       "      <td>3.89</td>\n",
       "      <td>10.3</td>\n",
       "      <td>4.30</td>\n",
       "      <td>0.67</td>\n",
       "      <td>0.18</td>\n",
       "      <td>26.1</td>\n",
       "      <td>32.4</td>\n",
       "      <td>64556658.0</td>\n",
       "      <td>26566.0</td>\n",
       "      <td>3.999597e+09</td>\n",
       "      <td>133319897.0</td>\n",
       "    </tr>\n",
       "    <tr>\n",
       "      <th>2</th>\n",
       "      <td>2021</td>\n",
       "      <td>30</td>\n",
       "      <td>2429</td>\n",
       "      <td>03:11:00</td>\n",
       "      <td>03:10:00</td>\n",
       "      <td>216.0</td>\n",
       "      <td>8.89</td>\n",
       "      <td>9.06</td>\n",
       "      <td>74.8</td>\n",
       "      <td>3.91</td>\n",
       "      <td>10.3</td>\n",
       "      <td>4.43</td>\n",
       "      <td>1.22</td>\n",
       "      <td>0.13</td>\n",
       "      <td>26.5</td>\n",
       "      <td>34.4</td>\n",
       "      <td>45304109.0</td>\n",
       "      <td>18651.0</td>\n",
       "      <td>3.616338e+09</td>\n",
       "      <td>120544596.0</td>\n",
       "    </tr>\n",
       "    <tr>\n",
       "      <th>3</th>\n",
       "      <td>2020</td>\n",
       "      <td>30</td>\n",
       "      <td>898</td>\n",
       "      <td>03:06:00</td>\n",
       "      <td>03:07:00</td>\n",
       "      <td>68.0</td>\n",
       "      <td>7.57</td>\n",
       "      <td>9.29</td>\n",
       "      <td>74.0</td>\n",
       "      <td>3.97</td>\n",
       "      <td>10.4</td>\n",
       "      <td>4.43</td>\n",
       "      <td>0.65</td>\n",
       "      <td>0.23</td>\n",
       "      <td>20.7</td>\n",
       "      <td>25.7</td>\n",
       "      <td>NaN</td>\n",
       "      <td>NaN</td>\n",
       "      <td>NaN</td>\n",
       "      <td>NaN</td>\n",
       "    </tr>\n",
       "    <tr>\n",
       "      <th>4</th>\n",
       "      <td>2019</td>\n",
       "      <td>30</td>\n",
       "      <td>2429</td>\n",
       "      <td>03:10:00</td>\n",
       "      <td>03:05:00</td>\n",
       "      <td>208.0</td>\n",
       "      <td>8.56</td>\n",
       "      <td>9.66</td>\n",
       "      <td>76.8</td>\n",
       "      <td>3.93</td>\n",
       "      <td>10.3</td>\n",
       "      <td>4.41</td>\n",
       "      <td>1.18</td>\n",
       "      <td>0.14</td>\n",
       "      <td>24.9</td>\n",
       "      <td>31.0</td>\n",
       "      <td>68506896.0</td>\n",
       "      <td>28203.0</td>\n",
       "      <td>3.981487e+09</td>\n",
       "      <td>132716223.0</td>\n",
       "    </tr>\n",
       "  </tbody>\n",
       "</table>\n",
       "</div>"
      ],
      "text/plain": [
       "   Year  Tms     G      Time   Time/9I    Inn  Inn%   R/G  PA/G  Pitches/PA   \n",
       "0  2023   29   155  02:38:00  02:36:00    9.0  5.81  9.26  75.8        3.92  \\\n",
       "1  2022   30  2430  03:06:00  03:03:00  216.0  8.89  8.57  74.9        3.89   \n",
       "2  2021   30  2429  03:11:00  03:10:00  216.0  8.89  9.06  74.8        3.91   \n",
       "3  2020   30   898  03:06:00  03:07:00   68.0  7.57  9.29  74.0        3.97   \n",
       "4  2019   30  2429  03:10:00  03:05:00  208.0  8.56  9.66  76.8        3.93   \n",
       "\n",
       "   Batters/G  Pitchers/G  PH/G  PR/G  Batters/S  Pitchers/S  Attendance   \n",
       "0       10.2        4.29  0.64  0.15       13.9        13.9   4496419.0  \\\n",
       "1       10.3        4.30  0.67  0.18       26.1        32.4  64556658.0   \n",
       "2       10.3        4.43  1.22  0.13       26.5        34.4  45304109.0   \n",
       "3       10.4        4.43  0.65  0.23       20.7        25.7         NaN   \n",
       "4       10.3        4.41  1.18  0.14       24.9        31.0  68506896.0   \n",
       "\n",
       "   Attend/G   Lg Payroll*  Payroll/Tm*  \n",
       "0   29009.0  4.567792e+09  157510076.0  \n",
       "1   26566.0  3.999597e+09  133319897.0  \n",
       "2   18651.0  3.616338e+09  120544596.0  \n",
       "3       NaN           NaN          NaN  \n",
       "4   28203.0  3.981487e+09  132716223.0  "
      ]
     },
     "execution_count": 2,
     "metadata": {},
     "output_type": "execute_result"
    }
   ],
   "source": [
    "data = pd.read_excel('./datasets/sportsref.xlsx')\n",
    "data.head()"
   ]
  },
  {
   "cell_type": "code",
   "execution_count": 3,
   "id": "0e0d08f8-72e2-452d-b7c5-0153a412ece3",
   "metadata": {
    "tags": []
   },
   "outputs": [],
   "source": [
    "data60s = data.loc[data['Year']>=1960, ['Year', 'Time/9I']]"
   ]
  },
  {
   "cell_type": "code",
   "execution_count": 4,
   "id": "e752b41d-03f8-4358-bef1-d8640ec01661",
   "metadata": {
    "tags": []
   },
   "outputs": [],
   "source": [
    "data60s['Time_in_min'] = data60s['Time/9I'].apply(lambda t: t.hour * 60 + t.minute)"
   ]
  },
  {
   "cell_type": "code",
   "execution_count": 5,
   "id": "2b9ca160-7698-4fe5-978a-734b18433e20",
   "metadata": {
    "tags": []
   },
   "outputs": [
    {
     "name": "stdout",
     "output_type": "stream",
     "text": [
      "<class 'pandas.core.frame.DataFrame'>\n",
      "Index: 64 entries, 0 to 63\n",
      "Data columns (total 3 columns):\n",
      " #   Column       Non-Null Count  Dtype \n",
      "---  ------       --------------  ----- \n",
      " 0   Year         64 non-null     int64 \n",
      " 1   Time/9I      64 non-null     object\n",
      " 2   Time_in_min  64 non-null     int64 \n",
      "dtypes: int64(2), object(1)\n",
      "memory usage: 2.0+ KB\n"
     ]
    }
   ],
   "source": [
    "data60s.info()"
   ]
  },
  {
   "cell_type": "markdown",
   "id": "5afd2bdf-f1b8-45a8-97c0-11354733c74b",
   "metadata": {},
   "source": [
    "## Matplotlib method"
   ]
  },
  {
   "cell_type": "code",
   "execution_count": 6,
   "id": "0726d281-065e-4f0c-9bc3-5634cd194586",
   "metadata": {
    "tags": []
   },
   "outputs": [],
   "source": [
    "import matplotlib.pyplot as plt\n",
    "import datetime\n",
    "\n",
    "px = 1 / plt.rcParams['figure.dpi']"
   ]
  },
  {
   "cell_type": "code",
   "execution_count": 46,
   "id": "5f70a9c2-a2c9-4859-90c1-cc127453f61c",
   "metadata": {
    "tags": []
   },
   "outputs": [
    {
     "data": {
      "image/png": "[encoded data removed]",
      "text/plain": [
       "<Figure size 700x700 with 7 Axes>"
      ]
     },
     "metadata": {},
     "output_type": "display_data"
    }
   ],
   "source": [
    "colors = ['#51B6D7', '#E06031']\n",
    "data2023 = data60s.query('Year==2023')\n",
    "years = [1960, 1970, 1980, 1990, 2000, 2010, 2020]\n",
    "data60s['Color'] = np.where(data60s['Time_in_min']<data2023.iloc[0, 2], colors[0], colors[1])\n",
    "\n",
    "fig, axs = plt.subplots(7, 1, figsize=(700*px, 700*px), sharex=True, sharey=True)\n",
    "\n",
    "for i, year in enumerate(years):\n",
    "    cur_data = data60s.query(f'{year} <= Year < {year+10}')\n",
    "    bars = axs[i].bar(np.arange(len(cur_data), 0, -1), cur_data['Time_in_min'], color=cur_data['Color'])\n",
    "    axs[i].axhline(y=data2023.iloc[0, 2], xmin=0.13, color='gray', alpha=0.6, linewidth=1)\n",
    "    axs[i].set_xlim(-1, 11)\n",
    "    axs[i].set_ylabel(f\"{year}s\", fontsize=9, rotation=0, labelpad=-15)\n",
    "\n",
    "    for row, patch in zip(cur_data.itertuples(), bars.patches):\n",
    "        axs[i].annotate(f\"{row[1]}\\n{row[2].strftime('%H:%M')[1:]}\", (patch.xy[0]+patch._width/2, patch.xy[1]),\n",
    "                        va='bottom', ha='center', fontweight='ultralight', fontsize=9)\n",
    "    \n",
    "    axs[i].annotate(f\"{data2023.iloc[0, 1].strftime('%H:%M')[1:]} in {data2023.iloc[0, 0]}\", (10+0.4, data2023.iloc[0, 2]),\n",
    "                    va='bottom', ha='left', fontweight='ultralight', fontsize=9)\n",
    "    if i == 0:\n",
    "        hidden = ['left', 'right']\n",
    "    else:\n",
    "        hidden = ['left', 'top', 'right']\n",
    "    axs[i].spines[hidden].set_visible(False)\n",
    "    axs[i].spines[['bottom', 'top']].set_color('gray')\n",
    "    axs[i].tick_params(bottom=False, left=False, labelbottom=False, labelleft=False)\n",
    "    \n",
    "# fig.savefig(\"2023w14.jpg\", bbox_inches=\"tight\", dpi=300)"
   ]
  },
  {
   "cell_type": "code",
   "execution_count": null,
   "id": "d8be5f90-b8c4-4109-8578-d6230f4b8cad",
   "metadata": {},
   "outputs": [],
   "source": []
  }
 ],
 "metadata": {
  "kernelspec": {
   "display_name": "Python 3 (ipykernel)",
   "language": "python",
   "name": "python3"
  },
  "language_info": {
   "codemirror_mode": {
    "name": "ipython",
    "version": 3
   },
   "file_extension": ".py",
   "mimetype": "text/x-python",
   "name": "python",
   "nbconvert_exporter": "python",
   "pygments_lexer": "ipython3",
   "version": "3.10.10"
  }
 },
 "nbformat": 4,
 "nbformat_minor": 5
}
