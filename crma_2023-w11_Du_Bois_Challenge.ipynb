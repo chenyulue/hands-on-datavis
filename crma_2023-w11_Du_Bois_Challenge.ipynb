{
 "cells": [
  {
   "cell_type": "markdown",
   "id": "a32c7cc9-1058-479e-bd50-c8891a210eda",
   "metadata": {},
   "source": [
    "# 1. Introduction\n",
    "\n",
    "This challenge comes from [2023 Week 11 | Du Bois Challenge](https://workout-wednesday.com/crma_2023-w11/), which creates a static dashboard. In my implementation, I'll try to build the dashboard by using `Matplotlib` only. Without further ado, let's do it!\n",
    "\n",
    "First import some necessary libraries:"
   ]
  },
  {
   "cell_type": "code",
   "execution_count": 1,
   "id": "ae35cfc2-bd1d-4b4b-9437-c38be1a34add",
   "metadata": {
    "tags": []
   },
   "outputs": [],
   "source": [
    "# For data loading and manipulating\n",
    "import pandas as pd\n",
    "\n",
    "# For data visualization\n",
    "import matplotlib.pyplot as plt"
   ]
  },
  {
   "cell_type": "code",
   "execution_count": 8,
   "id": "8a3b9d77-88b0-479a-a6ba-08a0b600d48f",
   "metadata": {
    "tags": []
   },
   "outputs": [
    {
     "data": {
      "text/html": [
       "<div>\n",
       "<style scoped>\n",
       "    .dataframe tbody tr th:only-of-type {\n",
       "        vertical-align: middle;\n",
       "    }\n",
       "\n",
       "    .dataframe tbody tr th {\n",
       "        vertical-align: top;\n",
       "    }\n",
       "\n",
       "    .dataframe thead th {\n",
       "        text-align: right;\n",
       "    }\n",
       "</style>\n",
       "<table border=\"1\" class=\"dataframe\">\n",
       "  <thead>\n",
       "    <tr style=\"text-align: right;\">\n",
       "      <th></th>\n",
       "      <th>Manufacturing</th>\n",
       "      <th>Commerce</th>\n",
       "      <th>Domestic</th>\n",
       "      <th>Professions</th>\n",
       "      <th>Agriculture</th>\n",
       "    </tr>\n",
       "    <tr>\n",
       "      <th>Group</th>\n",
       "      <th></th>\n",
       "      <th></th>\n",
       "      <th></th>\n",
       "      <th></th>\n",
       "      <th></th>\n",
       "    </tr>\n",
       "  </thead>\n",
       "  <tbody>\n",
       "    <tr>\n",
       "      <th>Both</th>\n",
       "      <td>3.60</td>\n",
       "      <td>2.50</td>\n",
       "      <td>20.00</td>\n",
       "      <td>0.50</td>\n",
       "      <td>38.0</td>\n",
       "    </tr>\n",
       "    <tr>\n",
       "      <th>Males</th>\n",
       "      <td>4.10</td>\n",
       "      <td>4.10</td>\n",
       "      <td>14.85</td>\n",
       "      <td>0.50</td>\n",
       "      <td>41.0</td>\n",
       "    </tr>\n",
       "    <tr>\n",
       "      <th>Females</th>\n",
       "      <td>2.05</td>\n",
       "      <td>0.25</td>\n",
       "      <td>33.80</td>\n",
       "      <td>0.25</td>\n",
       "      <td>28.2</td>\n",
       "    </tr>\n",
       "  </tbody>\n",
       "</table>\n",
       "</div>"
      ],
      "text/plain": [
       "         Manufacturing  Commerce  Domestic  Professions  Agriculture\n",
       "Group                                                               \n",
       "Both              3.60      2.50     20.00         0.50         38.0\n",
       "Males             4.10      4.10     14.85         0.50         41.0\n",
       "Females           2.05      0.25     33.80         0.25         28.2"
      ]
     },
     "execution_count": 8,
     "metadata": {},
     "output_type": "execute_result"
    }
   ],
   "source": [
    "DuBois_data = pd.read_csv(\"./datasets/Du_Bois_Challenge.csv\", index_col=0)\n",
    "DuBois_data"
   ]
  },
  {
   "cell_type": "code",
   "execution_count": 4,
   "id": "d05100a1-cf66-4b88-98c4-56c8855bc356",
   "metadata": {
    "tags": []
   },
   "outputs": [],
   "source": [
    "bg_color = \"#CCBCAD\"\n",
    "bar_colors = [\"#008000\", \"#654321\", \"#4782B4\", \"#DC143C\"]"
   ]
  },
  {
   "cell_type": "code",
   "execution_count": 9,
   "id": "e98989f3-a0a4-42e6-8cb4-a3af2617c997",
   "metadata": {
    "tags": []
   },
   "outputs": [
    {
     "data": {
      "text/plain": [
       "Group\n",
       "Both       64.60\n",
       "Males      64.55\n",
       "Females    64.55\n",
       "dtype: float64"
      ]
     },
     "execution_count": 9,
     "metadata": {},
     "output_type": "execute_result"
    }
   ],
   "source": [
    "DuBois_data.sum(axis=1)"
   ]
  },
  {
   "cell_type": "code",
   "execution_count": null,
   "id": "c240ec37-ea5a-45af-b69d-1eecbbc4313b",
   "metadata": {},
   "outputs": [],
   "source": []
  }
 ],
 "metadata": {
  "kernelspec": {
   "display_name": "Python 3 (ipykernel)",
   "language": "python",
   "name": "python3"
  },
  "language_info": {
   "codemirror_mode": {
    "name": "ipython",
    "version": 3
   },
   "file_extension": ".py",
   "mimetype": "text/x-python",
   "name": "python",
   "nbconvert_exporter": "python",
   "pygments_lexer": "ipython3",
   "version": "3.10.9"
  }
 },
 "nbformat": 4,
 "nbformat_minor": 5
}
