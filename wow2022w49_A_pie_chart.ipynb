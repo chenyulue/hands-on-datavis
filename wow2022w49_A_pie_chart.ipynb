{
 "cells": [
  {
   "cell_type": "markdown",
   "id": "d57aa6b3-2e89-463b-8e32-37ca10e04f6c",
   "metadata": {},
   "source": [
    "# 1. Introduction\n",
    "\n",
    "This challenge comes from [2022 – WEEK 49: Can you make a pie chart?](https://workout-wednesday.com/wow2022w49/), which builds a interesting pie chart with a thin solid exterior with Segment labels on the outside. This design makes the pie chart more charming. Without further ado, let's do it!\n",
    "\n",
    "First import some necessary libraries for the data manipulation and visualization."
   ]
  },
  {
   "cell_type": "code",
   "execution_count": 1,
   "id": "98d1aa1b-e646-4768-b48e-9e9717dff7de",
   "metadata": {
    "tags": []
   },
   "outputs": [],
   "source": [
    "import pandas as pd\n",
    "import numpy as np\n",
    "\n",
    "import matplotlib.pyplot as plt"
   ]
  },
  {
   "cell_type": "code",
   "execution_count": null,
   "id": "f089c128-2006-495f-a5d4-2275b11a76b0",
   "metadata": {},
   "outputs": [],
   "source": []
  }
 ],
 "metadata": {
  "kernelspec": {
   "display_name": "Python 3 (ipykernel)",
   "language": "python",
   "name": "python3"
  },
  "language_info": {
   "codemirror_mode": {
    "name": "ipython",
    "version": 3
   },
   "file_extension": ".py",
   "mimetype": "text/x-python",
   "name": "python",
   "nbconvert_exporter": "python",
   "pygments_lexer": "ipython3",
   "version": "3.10.9"
  }
 },
 "nbformat": 4,
 "nbformat_minor": 5
}
