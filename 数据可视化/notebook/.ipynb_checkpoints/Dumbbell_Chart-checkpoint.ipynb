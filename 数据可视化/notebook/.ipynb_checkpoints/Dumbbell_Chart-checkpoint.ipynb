{
 "cells": [
  {
   "cell_type": "markdown",
   "id": "72f6df91-4d56-4005-a483-2b3c70d2c4d4",
   "metadata": {},
   "source": [
    "# 1. Introduction\n",
    "Today I'll share with you how to build a [dumbbell chart](https://datavizproject.com/data-type/dumbbell-plot/#) by using *Matplotlib*. \n",
    "\n",
    "As [Tableau Playbook - Dumbbell Chart](https://www.pluralsight.com/guides/tableau-playbook-dumbbell-chart) tells:\n",
    "\n",
    "> A dumbbell chart is a composite chart with **circles** and **lines**. It is ideal for **illustrating change** and **comparing the distance** between **two groups of data points**. The dumbbell chart has many aliases, such as DNA chart, gap chart, barbell chart, and connected dot plot.\n",
    ">\n",
    "> Like a lollipop chart, the dumbbell chart is used to **compare categorical data**. It uses circles to **highlight values** and bars to **measure the gap**.\n",
    ">\n",
    "> On the other hand, the end circle **overstates** the value and **blurs the boundary**. Moreover, the **lack of baseline** makes **precise comparison** more difficult.\n",
    "\n",
    "From the concept and characteristics described above, a dumbbell chart is mainly used to compare the difference between two groups of categorical data points, where circles' position represents the absolute values in each group, and the bars or lines connecting the two circles to measure the gap by their length.\n",
    "\n",
    "This example comes from the challenge [**#WOW2022 Week 32: Can you build a dumbbell chart?**](https://workout-wednesday.com/2022w32tab/). The original challege used *Tableau* as the visualization tool. In this practice, I try to re-produce by *Matplotlib* the dumbbell chart as same as possible with the *Tableau* counterpart. Without further ado, let's do it!\n",
    "\n",
    "# 2. How to build it\n",
    "\n",
    "First, we need to import some necessary libraries, such as `numpy`, `pandas`, `matplotlib`, etc."
   ]
  },
  {
   "cell_type": "code",
   "execution_count": 1,
   "id": "43c647c7-672f-4d5e-a951-520c011bdd68",
   "metadata": {},
   "outputs": [],
   "source": [
    "import pandas as pd\n",
    "import numpy as np\n",
    "import matplotlib.pyplot as plt"
   ]
  },
  {
   "cell_type": "markdown",
   "id": "6c17a560-f503-4da9-8089-f258b61ccf4d",
   "metadata": {},
   "source": [
    "Then, we need to load the data from [Teen-Tween_Smartphone_Ownership.xlsx](https://github.com/chenyulue/hands-on-datavis/raw/master/datasets/Teen-Tween_Smartphone_Ownership.xlsx)."
   ]
  },
  {
   "cell_type": "code",
   "execution_count": 3,
   "id": "e52b5999-886d-4185-89d6-5da71fba1864",
   "metadata": {},
   "outputs": [
    {
     "data": {
      "text/html": [
       "<div>\n",
       "<style scoped>\n",
       "    .dataframe tbody tr th:only-of-type {\n",
       "        vertical-align: middle;\n",
       "    }\n",
       "\n",
       "    .dataframe tbody tr th {\n",
       "        vertical-align: top;\n",
       "    }\n",
       "\n",
       "    .dataframe thead th {\n",
       "        text-align: right;\n",
       "    }\n",
       "</style>\n",
       "<table border=\"1\" class=\"dataframe\">\n",
       "  <thead>\n",
       "    <tr style=\"text-align: right;\">\n",
       "      <th></th>\n",
       "      <th>Year</th>\n",
       "      <th>Age</th>\n",
       "      <th>Ownership</th>\n",
       "    </tr>\n",
       "  </thead>\n",
       "  <tbody>\n",
       "    <tr>\n",
       "      <th>0</th>\n",
       "      <td>2015</td>\n",
       "      <td>8</td>\n",
       "      <td>0.11</td>\n",
       "    </tr>\n",
       "    <tr>\n",
       "      <th>1</th>\n",
       "      <td>2015</td>\n",
       "      <td>9</td>\n",
       "      <td>0.15</td>\n",
       "    </tr>\n",
       "    <tr>\n",
       "      <th>2</th>\n",
       "      <td>2015</td>\n",
       "      <td>10</td>\n",
       "      <td>0.19</td>\n",
       "    </tr>\n",
       "    <tr>\n",
       "      <th>3</th>\n",
       "      <td>2015</td>\n",
       "      <td>11</td>\n",
       "      <td>0.32</td>\n",
       "    </tr>\n",
       "    <tr>\n",
       "      <th>4</th>\n",
       "      <td>2015</td>\n",
       "      <td>12</td>\n",
       "      <td>0.41</td>\n",
       "    </tr>\n",
       "  </tbody>\n",
       "</table>\n",
       "</div>"
      ],
      "text/plain": [
       "   Year  Age  Ownership\n",
       "0  2015    8       0.11\n",
       "1  2015    9       0.15\n",
       "2  2015   10       0.19\n",
       "3  2015   11       0.32\n",
       "4  2015   12       0.41"
      ]
     },
     "execution_count": 3,
     "metadata": {},
     "output_type": "execute_result"
    }
   ],
   "source": [
    "data_file = 'https://github.com/chenyulue/hands-on-datavis/raw/master/datasets/Teen-Tween_Smartphone_Ownership.xlsx'\n",
    "phone_ownership = pd.read_excel(data_file)\n",
    "phone_ownership.head()"
   ]
  },
  {
   "cell_type": "code",
   "execution_count": null,
   "id": "91253aae-f9d0-4bf1-ac17-b015c5a08454",
   "metadata": {},
   "outputs": [],
   "source": []
  }
 ],
 "metadata": {
  "kernelspec": {
   "display_name": "Python 3 (ipykernel)",
   "language": "python",
   "name": "python3"
  },
  "language_info": {
   "codemirror_mode": {
    "name": "ipython",
    "version": 3
   },
   "file_extension": ".py",
   "mimetype": "text/x-python",
   "name": "python",
   "nbconvert_exporter": "python",
   "pygments_lexer": "ipython3",
   "version": "3.10.8"
  }
 },
 "nbformat": 4,
 "nbformat_minor": 5
}
